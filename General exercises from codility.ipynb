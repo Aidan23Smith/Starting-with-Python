{
 "cells": [
  {
   "cell_type": "code",
   "execution_count": null,
   "id": "ffb68798",
   "metadata": {},
   "outputs": [],
   "source": [
    "#Run this cell, but don't worry about it - it's just the setup\n",
    "import random \n",
    "import numpy as np\n",
    "\n",
    "def check(which, inputs):\n",
    "    if which == 'cyclic':\n",
    "        if len(inputs[0]) == 0:\n",
    "            return([])\n",
    "        else:\n",
    "            return(inputs[0][-inputs[1]%len(inputs[0]):]+inputs[0][:-inputs[1]%len(inputs[0])])\n",
    "    elif which == 'missing':\n",
    "        return(list(set(range(1,len(inputs)+2)) - set(inputs))[0])\n",
    "    elif which == 'middle':\n",
    "        t = sum(inputs)\n",
    "        return(min([abs(t - 2*x) for x in np.cumsum(inputs)[:-1]]))\n",
    "\n",
    "def setup(which):\n",
    "    if which == 'cyclic':\n",
    "        inputs = [[[3, 8, 9, 7, 6], 3], [[], 3], [[3, 8, 9, 7, 6], 0], [[3], 5], [[3, 8, 9, 7, 6], 7], [list(range(100000)), 10000000]]\n",
    "        kind = {0:'simple', 1:'empty', 2:'no movement', 3:'one input', 4: 'move more than input', 5:'stress'}\n",
    "    elif which == 'missing':\n",
    "        inputs = [[2, 3, 1, 5], [], [1], [1, 3], list(range(100000))]\n",
    "        kind = {0:'simple', 1:'empty', 2:'one element', 3:'two elements', 4: 'stress'}\n",
    "    elif which == 'middle':\n",
    "        inputs = [[3, 1, 2, 4, 3], [3, 1], [-1, -4], [-10, 10], random.sample(range(-100000, 100000), 100000)]\n",
    "        kind = {0:'simple', 1:'two elements', 2:'negative elements', 3:'one native, one positive', 4: 'stress'}\n",
    "    else:\n",
    "        print('Enter a correct exercise')\n",
    "        return(0, 0)\n",
    "    return(inputs, kind)\n",
    "\n",
    "def tester(which):\n",
    "    inputs, kind = setup(which)\n",
    "    count = 0\n",
    "    for x in range(len(inputs)):\n",
    "        if which == 'cyclic':\n",
    "            answer = solution(inputs[x][0], inputs[x][1])\n",
    "        elif which == 'missing' or which == 'middle':\n",
    "            answer = solution(inputs[x])\n",
    "        correct = check(which, inputs[x])\n",
    "        if answer == correct:\n",
    "            print(\"Passed the \" + kind[x] + \" test. Input was \" + str(inputs[x]))\n",
    "        else:\n",
    "            print(\"Failed the \" + kind[x] + \" test. Input was \" + str(inputs[x]))\n",
    "        print()"
   ]
  },
  {
   "cell_type": "markdown",
   "id": "b2c63aa3",
   "metadata": {},
   "source": [
    "I'm writing up a selection of [exercises outlined from Codility](https://app.codility.com/programmers/lessons/1-iterations/) so please use the website if you wish.\n",
    "\n",
    "Otherwise, good luck here.\n",
    "\n",
    "# [1. Cyclic Rotation](#Cyclic-Rotation)\n",
    "\n",
    "# [2. Missing List Element](#Missing-List-Element)\n",
    "\n",
    "# [3. Closest Middle Sum](#Closest-Middle-Sum)\n"
   ]
  },
  {
   "cell_type": "markdown",
   "id": "1a87516b",
   "metadata": {},
   "source": [
    "---\n",
    "\n",
    "# Cyclic Rotation\n",
    "\n",
    "An array A consisting of N integers is given. Rotation of the array means that each element is shifted right by one index, and the last element of the array is moved to the first place. For example, the rotation of array A = [3, 8, 9, 7, 6] is [6, 3, 8, 9, 7] (elements are shifted right by one index and 6 is moved to the first place).\n",
    "\n",
    "The goal is to rotate array A K times; that is, each element of A will be shifted to the right K times.\n",
    "\n",
    "Write a function:\n",
    "\n",
    "def solution(A, K)\n",
    "\n",
    "that, given an array A consisting of N integers and an integer K, returns the array A rotated K times.\n",
    "\n",
    "For example, given\n",
    "\n",
    "    A = [3, 8, 9, 7, 6]\n",
    "    K = 3\n",
    "the function should return [9, 7, 6, 3, 8]. Three rotations were made:\n",
    "\n",
    "    [3, 8, 9, 7, 6] -> [6, 3, 8, 9, 7]\n",
    "    [6, 3, 8, 9, 7] -> [7, 6, 3, 8, 9]\n",
    "    [7, 6, 3, 8, 9] -> [9, 7, 6, 3, 8]\n",
    "For another example, given\n",
    "\n",
    "    A = [0, 0, 0]\n",
    "    K = 1\n",
    "the function should return [0, 0, 0]\n",
    "\n",
    "Given\n",
    "\n",
    "    A = [1, 2, 3, 4]\n",
    "    K = 4\n",
    "the function should return [1, 2, 3, 4]\n",
    "\n",
    "Assume that:\n",
    "\n",
    "N and K are integers within the range [0..100];\n",
    "each element of array A is an integer within the range [−1,000..1,000].\n",
    "In your solution, focus on correctness. The performance of your solution will not be the focus of the assessment."
   ]
  },
  {
   "cell_type": "code",
   "execution_count": null,
   "id": "75b664c5",
   "metadata": {},
   "outputs": [],
   "source": [
    "def solution(A, K):\n",
    "    return(None)"
   ]
  },
  {
   "cell_type": "code",
   "execution_count": null,
   "id": "4ee20a4f",
   "metadata": {},
   "outputs": [],
   "source": [
    "tester('cyclic')"
   ]
  },
  {
   "cell_type": "markdown",
   "id": "d4fad097",
   "metadata": {},
   "source": [
    "---\n",
    "\n",
    "# Cyclic Rotation\n",
    "\n",
    "An array A consisting of N different integers is given. The array contains integers in the range [1..(N + 1)], which means that exactly one element is missing.\n",
    "\n",
    "Your goal is to find that missing element.\n",
    "\n",
    "Write a function:\n",
    "\n",
    "def solution(A)\n",
    "\n",
    "that, given an array A, returns the value of the missing element.\n",
    "\n",
    "For example, given array A such that:\n",
    "\n",
    "  A[0] = 2\n",
    "  A[1] = 3\n",
    "  A[2] = 1\n",
    "  A[3] = 5\n",
    "the function should return 4, as it is the missing element.\n",
    "\n",
    "Write an efficient algorithm for the following assumptions:\n",
    "\n",
    "N is an integer within the range [0..100,000];\n",
    "the elements of A are all distinct;\n",
    "each element of array A is an integer within the range [1..(N + 1)]."
   ]
  },
  {
   "cell_type": "code",
   "execution_count": null,
   "id": "13dc028f",
   "metadata": {},
   "outputs": [],
   "source": [
    "def solution(A):\n",
    "    return(None)"
   ]
  },
  {
   "cell_type": "code",
   "execution_count": null,
   "id": "3682e835",
   "metadata": {},
   "outputs": [],
   "source": [
    "tester('missing')"
   ]
  },
  {
   "cell_type": "markdown",
   "id": "bce26e0d",
   "metadata": {},
   "source": [
    "---\n",
    "\n",
    "# Closest Middle Sum\n",
    "\n",
    "A non-empty array A consisting of N integers is given. Array A represents numbers on a tape.\n",
    "\n",
    "Any integer P, such that 0 < P < N, splits this tape into two non-empty parts: A[0], A[1], ..., A[P − 1] and A[P], A[P + 1], ..., A[N − 1].\n",
    "\n",
    "The difference between the two parts is the value of: |(A[0] + A[1] + ... + A[P − 1]) − (A[P] + A[P + 1] + ... + A[N − 1])|\n",
    "\n",
    "In other words, it is the absolute difference between the sum of the first part and the sum of the second part.\n",
    "\n",
    "For example, consider array A such that:\n",
    "\n",
    "  A[0] = 3\n",
    "  A[1] = 1\n",
    "  A[2] = 2\n",
    "  A[3] = 4\n",
    "  A[4] = 3\n",
    "We can split this tape in four places:\n",
    "\n",
    "P = 1, difference = |3 − 10| = 7\n",
    "P = 2, difference = |4 − 9| = 5\n",
    "P = 3, difference = |6 − 7| = 1\n",
    "P = 4, difference = |10 − 3| = 7\n",
    "Write a function:\n",
    "\n",
    "def solution(A)\n",
    "\n",
    "that, given a non-empty array A of N integers, returns the minimal difference that can be achieved.\n",
    "\n",
    "For example, given:\n",
    "\n",
    "  A[0] = 3\n",
    "  A[1] = 1\n",
    "  A[2] = 2\n",
    "  A[3] = 4\n",
    "  A[4] = 3\n",
    "the function should return 1, as explained above.\n",
    "\n",
    "Write an efficient algorithm for the following assumptions:\n",
    "\n",
    "N is an integer within the range [2..100,000];\n",
    "each element of array A is an integer within the range [−1,000..1,000]."
   ]
  },
  {
   "cell_type": "code",
   "execution_count": null,
   "id": "660cd496",
   "metadata": {},
   "outputs": [],
   "source": [
    "def solution(A):\n",
    "    return(None)"
   ]
  },
  {
   "cell_type": "code",
   "execution_count": null,
   "id": "dfdb188b",
   "metadata": {},
   "outputs": [],
   "source": [
    "tester('middle')"
   ]
  },
  {
   "cell_type": "code",
   "execution_count": null,
   "id": "5bfd4f72",
   "metadata": {},
   "outputs": [],
   "source": []
  }
 ],
 "metadata": {
  "kernelspec": {
   "display_name": "Python 3",
   "language": "python",
   "name": "python3"
  },
  "language_info": {
   "codemirror_mode": {
    "name": "ipython",
    "version": 3
   },
   "file_extension": ".py",
   "mimetype": "text/x-python",
   "name": "python",
   "nbconvert_exporter": "python",
   "pygments_lexer": "ipython3",
   "version": "3.8.8"
  }
 },
 "nbformat": 4,
 "nbformat_minor": 5
}
